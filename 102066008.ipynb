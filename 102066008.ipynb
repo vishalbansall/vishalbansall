{
  "nbformat": 4,
  "nbformat_minor": 0,
  "metadata": {
    "colab": {
      "name": "Untitled1.ipynb",
      "provenance": [],
      "authorship_tag": "ABX9TyNhk4pZBF9hn/Y1CB49fjmN",
      "include_colab_link": true
    },
    "kernelspec": {
      "name": "python3",
      "display_name": "Python 3"
    },
    "language_info": {
      "name": "python"
    }
  },
  "cells": [
    {
      "cell_type": "markdown",
      "metadata": {
        "id": "view-in-github",
        "colab_type": "text"
      },
      "source": [
        "<a href=\"https://colab.research.google.com/github/vishalbansall/vishalbansall/blob/main/102066008.ipynb\" target=\"_parent\"><img src=\"https://colab.research.google.com/assets/colab-badge.svg\" alt=\"Open In Colab\"/></a>"
      ]
    },
    {
      "cell_type": "code",
      "execution_count": 16,
      "metadata": {
        "colab": {
          "base_uri": "https://localhost:8080/"
        },
        "id": "GqL173xKjxK_",
        "outputId": "b4ccf0d4-c258-4f12-e25c-2a90203a03a4"
      },
      "outputs": [
        {
          "name": "stdout",
          "output_type": "stream",
          "text": [
            "Students who play cricket: 2,5,9,12,13,15,16,17,18,19\n",
            "Students who play football: 2,4,5,6,7,9,13,16\n",
            "Students who play hockey: 1,2,5,9,10,11,12,13,15\n"
          ]
        }
      ],
      "source": [
        "total=[*range(1, 21)]\n",
        "\n",
        "cricket = input(\"Students who play cricket: \")\n",
        "c  = cricket.split(',')\n",
        "football = input(\"Students who play football: \")\n",
        "f  = football.split(',')\n",
        "hockey = input(\"Students who play hockey: \")\n",
        "h  = hockey.split(',')\n",
        "\n",
        "# c=[2,5,9,12,13,15,16,17,18,19]\n",
        "# f=[2,4,5,6,7,9,13,16]\n",
        "# h=[1,2,5,9,10,11,12,13,15]"
      ]
    },
    {
      "cell_type": "markdown",
      "source": [
        "Student who play all three sports"
      ],
      "metadata": {
        "id": "-7Mx3Y54lXi8"
      }
    },
    {
      "cell_type": "code",
      "source": [
        "totalSet=set(total)\n",
        "s1=set(c)\n",
        "s2=set(f)\n",
        "s3=set(h)\n",
        "\n",
        "set1 = s1.intersection(s2)\n",
        "set2 = s2.intersection(s3)\n",
        "set3 = s3.intersection(s1)\n",
        "result_set = set1.intersection(s3)\n",
        "final_list = list(result_set)\n",
        "print(\"Student who play all three sports are \")\n",
        "print(final_list)"
      ],
      "metadata": {
        "colab": {
          "base_uri": "https://localhost:8080/"
        },
        "id": "7MZrGOYrlbqo",
        "outputId": "8a6a7421-3bf0-4465-cf2a-5dfee243b728"
      },
      "execution_count": 17,
      "outputs": [
        {
          "output_type": "stream",
          "name": "stdout",
          "text": [
            "Student who play all three sports are \n",
            "['2', '13', '5', '9']\n"
          ]
        }
      ]
    },
    {
      "cell_type": "markdown",
      "source": [
        "Student who play cricket and football but not hockey"
      ],
      "metadata": {
        "id": "DJ86CjGysRKR"
      }
    },
    {
      "cell_type": "code",
      "source": [
        "q2=list(set1.difference(s3))\n",
        "print(\"Student who play cricket and football but not hockey are \")\n",
        "print(q2)\n"
      ],
      "metadata": {
        "colab": {
          "base_uri": "https://localhost:8080/"
        },
        "id": "mNlwBhS-mtsP",
        "outputId": "8787199b-c783-445c-f2c4-9bacc2ed825b"
      },
      "execution_count": 18,
      "outputs": [
        {
          "output_type": "stream",
          "name": "stdout",
          "text": [
            "Student who play cricket and football but not hockey are \n",
            "['16']\n"
          ]
        }
      ]
    },
    {
      "cell_type": "markdown",
      "source": [
        "Students who play exactly two of the sports"
      ],
      "metadata": {
        "id": "YwgnlfVjsT_8"
      }
    },
    {
      "cell_type": "code",
      "source": [
        "q3a=list(set1.difference(s3))\n",
        "q3b=list(set2.difference(s1))\n",
        "q3c=list(set3.difference(s2))\n",
        "q3=q3a+q3b+q3c\n",
        "print(\"Students who play exactly two of the sports are \")\n",
        "print(q3)"
      ],
      "metadata": {
        "colab": {
          "base_uri": "https://localhost:8080/"
        },
        "id": "NLC6qk9znz4t",
        "outputId": "85a1cb88-aa69-49e5-8cd1-a07f8c3eace2"
      },
      "execution_count": 19,
      "outputs": [
        {
          "output_type": "stream",
          "name": "stdout",
          "text": [
            "Students who play exactly two of the sports are \n",
            "['16', '15', '12']\n"
          ]
        }
      ]
    },
    {
      "cell_type": "markdown",
      "source": [
        "Students who don't play any game"
      ],
      "metadata": {
        "id": "1wWUoFQYsWuF"
      }
    },
    {
      "cell_type": "code",
      "source": [
        "totalSet=totalSet.difference(s1)\n",
        "totalSet=totalSet.difference(s2)\n",
        "totalSet=totalSet.difference(s3)\n",
        "print(\"Students who don't play any game are \")\n",
        "print(list(totalSet))"
      ],
      "metadata": {
        "colab": {
          "base_uri": "https://localhost:8080/"
        },
        "id": "YkzlXVaLo8_b",
        "outputId": "ffa50075-34c2-41b9-baad-569639cf093a"
      },
      "execution_count": 20,
      "outputs": [
        {
          "output_type": "stream",
          "name": "stdout",
          "text": [
            "Students who don't play any game are \n",
            "[1, 2, 3, 4, 5, 6, 7, 8, 9, 10, 11, 12, 13, 14, 15, 16, 17, 18, 19, 20]\n"
          ]
        }
      ]
    }
  ]
}