{
  "nbformat": 4,
  "nbformat_minor": 0,
  "metadata": {
    "colab": {
      "name": "Untitled1.ipynb",
      "provenance": [],
      "authorship_tag": "ABX9TyOdgskWGKE8T0ZH0lvhfAZm",
      "include_colab_link": true
    },
    "kernelspec": {
      "name": "python3",
      "display_name": "Python 3"
    },
    "language_info": {
      "name": "python"
    }
  },
  "cells": [
    {
      "cell_type": "markdown",
      "metadata": {
        "id": "view-in-github",
        "colab_type": "text"
      },
      "source": [
        "<a href=\"https://colab.research.google.com/github/vishalbansall/vishalbansall/blob/main/Untitled1.ipynb\" target=\"_parent\"><img src=\"https://colab.research.google.com/assets/colab-badge.svg\" alt=\"Open In Colab\"/></a>"
      ]
    },
    {
      "cell_type": "code",
      "execution_count": 11,
      "metadata": {
        "id": "GqL173xKjxK_"
      },
      "outputs": [],
      "source": [
        "total=[1,2,3,4,5,6,7,8,9,10,11,12,13,14,15,16,17,18,19,20]\n",
        "\n",
        "# cricket = input(\"Students who play cricket: \")\n",
        "# c  = cricket.split()\n",
        "# football = input(\"Students who play football: \")\n",
        "# f  = football.split()\n",
        "# hockey = input(\"Students who play hockey: \")\n",
        "# h  = hockey.split()\n",
        "\n",
        "c=[2,5,9,12,13,15,16,17,18,19]\n",
        "f=[2,4,5,6,7,9,13,16]\n",
        "h=[1,2,5,9,10,11,12,13,15]"
      ]
    },
    {
      "cell_type": "markdown",
      "source": [
        "Student who play all three sports"
      ],
      "metadata": {
        "id": "-7Mx3Y54lXi8"
      }
    },
    {
      "cell_type": "code",
      "source": [
        "totalSet=set(total)\n",
        "s1=set(c)\n",
        "s2=set(f)\n",
        "s3=set(h)\n",
        "\n",
        "set1 = s1.intersection(s2)\n",
        "set2 = s2.intersection(s3)\n",
        "set3 = s3.intersection(s1)\n",
        "result_set = set1.intersection(s3)\n",
        "final_list = list(result_set)\n",
        "print(\"Student who play all three sports are \")\n",
        "print(final_list)"
      ],
      "metadata": {
        "colab": {
          "base_uri": "https://localhost:8080/"
        },
        "id": "7MZrGOYrlbqo",
        "outputId": "955c887c-258a-4282-d2c9-5b542f5edfb8"
      },
      "execution_count": 12,
      "outputs": [
        {
          "output_type": "stream",
          "name": "stdout",
          "text": [
            "Student who play all three sports are \n",
            "[9, 2, 13, 5]\n"
          ]
        }
      ]
    },
    {
      "cell_type": "markdown",
      "source": [
        "Student who play cricket and football but not hockey"
      ],
      "metadata": {
        "id": "DJ86CjGysRKR"
      }
    },
    {
      "cell_type": "code",
      "source": [
        "q2=list(set1.difference(s3))\n",
        "print(\"Student who play cricket and football but not hockey are \")\n",
        "print(q2)\n"
      ],
      "metadata": {
        "colab": {
          "base_uri": "https://localhost:8080/"
        },
        "id": "mNlwBhS-mtsP",
        "outputId": "01bbf6a5-e974-4d46-d0bd-7485b6869c3a"
      },
      "execution_count": 13,
      "outputs": [
        {
          "output_type": "stream",
          "name": "stdout",
          "text": [
            "Student who play cricket and football but not hockey are \n",
            "[16]\n"
          ]
        }
      ]
    },
    {
      "cell_type": "markdown",
      "source": [
        "Students who play exactly two of the sports"
      ],
      "metadata": {
        "id": "YwgnlfVjsT_8"
      }
    },
    {
      "cell_type": "code",
      "source": [
        "q3a=list(set1.difference(s3))\n",
        "q3b=list(set2.difference(s1))\n",
        "q3c=list(set3.difference(s2))\n",
        "q3=q3a+q3b+q3c\n",
        "print(\"Students who play exactly two of the sports are \")\n",
        "print(q3)"
      ],
      "metadata": {
        "colab": {
          "base_uri": "https://localhost:8080/"
        },
        "id": "NLC6qk9znz4t",
        "outputId": "4b83541a-e72c-445b-c41a-95151c28b860"
      },
      "execution_count": 14,
      "outputs": [
        {
          "output_type": "stream",
          "name": "stdout",
          "text": [
            "Students who play exactly two of the sports are \n",
            "[16, 12, 15]\n"
          ]
        }
      ]
    },
    {
      "cell_type": "markdown",
      "source": [
        "Students who don't play any game"
      ],
      "metadata": {
        "id": "1wWUoFQYsWuF"
      }
    },
    {
      "cell_type": "code",
      "source": [
        "temp=c+f+h\n",
        "temp2=set(temp)\n",
        "q4=totalSet-temp2\n",
        "print(\"Students who don't play any game are \")\n",
        "print(list(q4))"
      ],
      "metadata": {
        "colab": {
          "base_uri": "https://localhost:8080/"
        },
        "id": "YkzlXVaLo8_b",
        "outputId": "69443317-9a74-46fb-b3b0-e5a3691aab37"
      },
      "execution_count": 15,
      "outputs": [
        {
          "output_type": "stream",
          "name": "stdout",
          "text": [
            "Students who don't play any game are \n",
            "[8, 3, 20, 14]\n"
          ]
        }
      ]
    }
  ]
}